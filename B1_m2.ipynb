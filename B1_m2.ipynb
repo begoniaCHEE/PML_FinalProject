{
 "cells": [
  {
   "cell_type": "code",
   "execution_count": 1,
   "id": "f7442092",
   "metadata": {},
   "outputs": [],
   "source": [
    "from sklearn.model_selection import KFold\n",
    "from sklearn.model_selection import train_test_split\n",
    "import torch\n",
    "import pyro\n",
    "import pyro.distributions as pdist\n",
    "import pyro.contrib.gp as gp\n",
    "from pyro.infer import SVI, Trace_ELBO\n",
    "from pyro.optim import Adam\n",
    "import math\n",
    "import numpy as np\n"
   ]
  },
  {
   "cell_type": "code",
   "execution_count": 3,
   "id": "ee255e4e",
   "metadata": {},
   "outputs": [
    {
     "ename": "IndexError",
     "evalue": "tuple index out of range",
     "output_type": "error",
     "traceback": [
      "\u001b[1;31m---------------------------------------------------------------------------\u001b[0m",
      "\u001b[1;31mIndexError\u001b[0m                                Traceback (most recent call last)",
      "\u001b[1;32m~\\AppData\\Local\\Temp\\ipykernel_12888\\3087288405.py\u001b[0m in \u001b[0;36m<cell line: 36>\u001b[1;34m()\u001b[0m\n\u001b[0;32m     34\u001b[0m \u001b[1;33m\u001b[0m\u001b[0m\n\u001b[0;32m     35\u001b[0m \u001b[1;31m# Initialize your parameters\u001b[0m\u001b[1;33m\u001b[0m\u001b[1;33m\u001b[0m\u001b[0m\n\u001b[1;32m---> 36\u001b[1;33m \u001b[0mtheta\u001b[0m \u001b[1;33m=\u001b[0m \u001b[0mtorch\u001b[0m\u001b[1;33m.\u001b[0m\u001b[0mzeros\u001b[0m\u001b[1;33m(\u001b[0m\u001b[0mX\u001b[0m\u001b[1;33m.\u001b[0m\u001b[0mshape\u001b[0m\u001b[1;33m[\u001b[0m\u001b[1;36m1\u001b[0m\u001b[1;33m]\u001b[0m\u001b[1;33m,\u001b[0m \u001b[0mrequires_grad\u001b[0m\u001b[1;33m=\u001b[0m\u001b[1;32mTrue\u001b[0m\u001b[1;33m)\u001b[0m\u001b[1;33m\u001b[0m\u001b[1;33m\u001b[0m\u001b[0m\n\u001b[0m\u001b[0;32m     37\u001b[0m \u001b[1;33m\u001b[0m\u001b[0m\n\u001b[0;32m     38\u001b[0m \u001b[1;31m# Use a gradient-based optimizer\u001b[0m\u001b[1;33m\u001b[0m\u001b[1;33m\u001b[0m\u001b[0m\n",
      "\u001b[1;31mIndexError\u001b[0m: tuple index out of range"
     ]
    }
   ],
   "source": [
    "import torch\n",
    "import torch.optim as optim\n",
    "\n",
    "def func(X):\n",
    "    return -torch.sin(6*math.pi*X)**2+6*X**2-5*X**4+3/2\n",
    "\n",
    "# Data\n",
    "X = torch.tensor(np.linspace(0, 1, 30))\n",
    "y = func(X)\n",
    "\n",
    "# Define your model\n",
    "def model(X, theta):\n",
    "    # This is a simple linear regression model\n",
    "    return X @ theta\n",
    "\n",
    "# Define your prior\n",
    "def prior(theta):\n",
    "    # Assuming a Gaussian prior\n",
    "    return torch.exp(-0.5 * torch.sum(theta**2))\n",
    "\n",
    "# Define your likelihood\n",
    "def likelihood(y, y_hat):\n",
    "    # Assuming normally distributed residuals\n",
    "    return torch.exp(-0.5 * torch.sum((y - y_hat)**2))\n",
    "\n",
    "# Define your posterior\n",
    "def posterior(theta, X, y):\n",
    "    y_hat = model(X, theta)\n",
    "    return likelihood(y, y_hat) * prior(theta)\n",
    "\n",
    "# Define a function to minimize (negative log posterior)\n",
    "def neg_log_posterior(theta, X, y):\n",
    "    return -torch.log(posterior(theta, X, y))\n",
    "\n",
    "# Initialize your parameters\n",
    "theta = torch.zeros(X.shape[1], requires_grad=True)\n",
    "\n",
    "# Use a gradient-based optimizer\n",
    "optimizer = optim.Adam([theta], lr=0.1)\n",
    "\n",
    "# Training loop\n",
    "for i in range(1000):\n",
    "    optimizer.zero_grad()\n",
    "    loss = neg_log_posterior(theta, X, y)\n",
    "    loss.backward()\n",
    "    optimizer.step()\n",
    "\n",
    "print(f\"MAP estimate: {theta.detach().numpy()}\")\n"
   ]
  },
  {
   "cell_type": "code",
   "execution_count": null,
   "id": "1b566c9c",
   "metadata": {},
   "outputs": [],
   "source": [
    "def func(X):\n",
    "    return -torch.sin(6*math.pi*X)**2+6*X**2-5*X**4+3/2\n",
    "\n",
    "# Data\n",
    "X = torch.tensor(np.linspace(0, 1, 30))\n",
    "y = func(X)\n",
    "\n",
    "# Define Model\n",
    "kernel = gp.kernels.Periodic(input_dim=1)  # could add a linear kernel\n",
    "kernel.lengthscale = pyro.nn.PyroSample(pdist.LogNormal(0,1))\n",
    "kernel.variance = pyro.nn.PyroSample(pdist.LogNormal(0,1))\n",
    "gpr = gp.models.GPRegression(X, y, kernel, noise=torch.tensor(1e-4))  # the noise level\n",
    "\n",
    "\n",
    "X_train, X_test, y_train, y_test = train_test_split(X, y, test_size=1/3, random_state=42)\n",
    "gpr.set_data(X_train, y_train)"
   ]
  },
  {
   "cell_type": "code",
   "execution_count": null,
   "id": "d7b46ac2",
   "metadata": {},
   "outputs": [],
   "source": []
  },
  {
   "cell_type": "code",
   "execution_count": null,
   "id": "9d79c349",
   "metadata": {},
   "outputs": [],
   "source": []
  },
  {
   "cell_type": "code",
   "execution_count": null,
   "id": "40c7b885",
   "metadata": {},
   "outputs": [],
   "source": []
  }
 ],
 "metadata": {
  "kernelspec": {
   "display_name": "Python 3 (ipykernel)",
   "language": "python",
   "name": "python3"
  },
  "language_info": {
   "codemirror_mode": {
    "name": "ipython",
    "version": 3
   },
   "file_extension": ".py",
   "mimetype": "text/x-python",
   "name": "python",
   "nbconvert_exporter": "python",
   "pygments_lexer": "ipython3",
   "version": "3.9.16"
  }
 },
 "nbformat": 4,
 "nbformat_minor": 5
}
