{
 "cells": [
  {
   "cell_type": "code",
   "execution_count": 1,
   "id": "4b7742bf",
   "metadata": {},
   "outputs": [],
   "source": [
    "import torch\n",
    "import pyro\n",
    "import pyro.contrib.gp as gp\n",
    "import pyro.distributions as pdist\n",
    "from torch.optim import Adam\n",
    "from sklearn.model_selection import train_test_split\n",
    "import numpy as np\n",
    "import math as math\n",
    "import time"
   ]
  },
  {
   "cell_type": "code",
   "execution_count": 2,
   "id": "97dcddee",
   "metadata": {
    "scrolled": true
   },
   "outputs": [
    {
     "name": "stderr",
     "output_type": "stream",
     "text": [
      "D:\\ArcGIS Pro\\bin\\Python\\envs\\arcgispro-py3\\lib\\site-packages\\pyro\\primitives.py:137: RuntimeWarning: trying to observe a value outside of inference at y\n",
      "  warnings.warn(\n"
     ]
    },
    {
     "name": "stdout",
     "output_type": "stream",
     "text": [
      "0\n",
      "1\n",
      "2\n",
      "3\n",
      "4\n",
      "5\n",
      "6\n",
      "7\n",
      "8\n",
      "9\n",
      "10\n",
      "11\n",
      "12\n",
      "13\n",
      "14\n",
      "15\n",
      "16\n",
      "17\n",
      "18\n",
      "19\n"
     ]
    }
   ],
   "source": [
    "def func(X, noise_std=0.01):\n",
    "    Y = -torch.sin(6*math.pi*X)**2+6*X**2-5*X**4+3/2\n",
    "\n",
    "    noise = torch.randn_like(X) * noise_std\n",
    "    return Y + noise\n",
    "\n",
    "\n",
    "\n",
    "# Data\n",
    "X = torch.tensor(np.linspace(0, 1, 30))\n",
    "y = func(X)\n",
    "\n",
    "\n",
    "kernel = gp.kernels.Periodic(input_dim=1)\n",
    "\n",
    "# Set the priors for the kernel parameters\n",
    "kernel.lengthscale = pyro.nn.PyroSample(pdist.LogNormal(0.15, 1))  # (0.2, 1)\n",
    "kernel.variance = pyro.nn.PyroSample(pdist.LogNormal(0.05, 0.3))   # (0.05, 0.3)\n",
    "\n",
    "gpr = gp.models.GPRegression(X, y, kernel, noise=torch.tensor(0.01)) # the noise N(0,0.01)\n",
    "\n",
    "\n",
    "total_log_pred_likelihood_list = []\n",
    "\n",
    "for k in range(20):\n",
    "    # Use clone for splitting data and ensure requires_grad is set\n",
    "    current_time = int(time.time())\n",
    "    X_train, X_test, y_train, y_test = train_test_split(X.clone(), y.clone(), test_size=1/3, random_state=current_time)\n",
    "    X_train.requires_grad_(True)\n",
    "    y_train.requires_grad_(True)\n",
    "    gpr.set_data(X_train, y_train)\n",
    "\n",
    "    # Ensure model parameters require gradients\n",
    "    for param in gpr.parameters():\n",
    "        param.requires_grad = True\n",
    "\n",
    "    # Optimizer\n",
    "    optimizer = Adam(gpr.parameters(), lr=0.001)\n",
    "    \n",
    "    # Training with MAP estimation\n",
    "    for i in range(5000):\n",
    "        optimizer.zero_grad()  # Clear gradients at the start of each iteration\n",
    "        gpr.train()\n",
    "        loss = -gpr.model().sum()  # Negative Log Posterior as Loss/ implement logp(y, \\theta|X)\n",
    "\n",
    "        # Backward pass\n",
    "        loss.backward()\n",
    "\n",
    "        # Update the parameters\n",
    "        optimizer.step()\n",
    "\n",
    "    # Predict on the test set\n",
    "    with torch.no_grad():\n",
    "        gpr.eval()\n",
    "        mean, variance = gpr(X_test, full_cov=False)\n",
    "\n",
    "    # Compute log predictive likelihood\n",
    "    log_pred_likelihood = -0.5 * torch.log(2 * math.pi * variance) - 0.5 * (y_test - mean) ** 2 / variance\n",
    "\n",
    "    # Sum over the test set\n",
    "    total_log_pred_likelihood = torch.sum(log_pred_likelihood)\n",
    "    total_log_pred_likelihood_list.append(total_log_pred_likelihood)\n",
    "    print(k)"
   ]
  },
  {
   "cell_type": "code",
   "execution_count": 3,
   "id": "644af6c5",
   "metadata": {},
   "outputs": [
    {
     "name": "stdout",
     "output_type": "stream",
     "text": [
      "-66.59550983971731 30.888702483125794\n"
     ]
    }
   ],
   "source": [
    "print(np.mean(total_log_pred_likelihood_list),np.std(total_log_pred_likelihood_list))"
   ]
  },
  {
   "cell_type": "code",
   "execution_count": 4,
   "id": "d039aba0",
   "metadata": {},
   "outputs": [
    {
     "data": {
      "image/png": "[encoded data removed]",
      "text/plain": [
       "<Figure size 640x480 with 1 Axes>"
      ]
     },
     "metadata": {},
     "output_type": "display_data"
    }
   ],
   "source": [
    "import matplotlib.pyplot as plt\n",
    "# Creating a histogram\n",
    "plt.hist(total_log_pred_likelihood_list, bins=20, alpha=0.3, color='deepskyblue', edgecolor='white')\n",
    "\n",
    "# Adding labels and title for clarity\n",
    "plt.xlabel('Value')\n",
    "plt.ylabel('Frequency')\n",
    "plt.title('Histogram of the total_log_likelihoods, MAP')\n",
    "\n",
    "# Display the histogram\n",
    "plt.show()"
   ]
  },
  {
   "cell_type": "code",
   "execution_count": null,
   "id": "f31a8c0e",
   "metadata": {},
   "outputs": [],
   "source": []
  }
 ],
 "metadata": {
  "kernelspec": {
   "display_name": "Python 3 (ipykernel)",
   "language": "python",
   "name": "python3"
  },
  "language_info": {
   "codemirror_mode": {
    "name": "ipython",
    "version": 3
   },
   "file_extension": ".py",
   "mimetype": "text/x-python",
   "name": "python",
   "nbconvert_exporter": "python",
   "pygments_lexer": "ipython3",
   "version": "3.9.16"
  }
 },
 "nbformat": 4,
 "nbformat_minor": 5
}
