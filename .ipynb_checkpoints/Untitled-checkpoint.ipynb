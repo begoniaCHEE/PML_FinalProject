{
 "cells": [
  {
   "cell_type": "code",
   "execution_count": null,
   "id": "c29009bf",
   "metadata": {},
   "outputs": [],
   "source": [
    "import torch\n",
    "import pyro\n",
    "import pyro.contrib.gp as gp\n",
    "import pyro.distributions as pdist\n",
    "from torch.optim import Adam\n",
    "from sklearn.model_selection import train_test_split\n",
    "import numpy as np\n",
    "import math as math"
   ]
  },
  {
   "cell_type": "code",
   "execution_count": null,
   "id": "7262a0a0",
   "metadata": {},
   "outputs": [],
   "source": [
    "help(gp.kernels.Linear)"
   ]
  },
  {
   "cell_type": "code",
   "execution_count": null,
   "id": "190aa385",
   "metadata": {},
   "outputs": [],
   "source": []
  },
  {
   "cell_type": "code",
   "execution_count": null,
   "id": "12f1a067",
   "metadata": {},
   "outputs": [],
   "source": []
  }
 ],
 "metadata": {
  "kernelspec": {
   "display_name": "Python 3 (ipykernel)",
   "language": "python",
   "name": "python3"
  },
  "language_info": {
   "codemirror_mode": {
    "name": "ipython",
    "version": 3
   },
   "file_extension": ".py",
   "mimetype": "text/x-python",
   "name": "python",
   "nbconvert_exporter": "python",
   "pygments_lexer": "ipython3",
   "version": "3.9.16"
  }
 },
 "nbformat": 4,
 "nbformat_minor": 5
}
