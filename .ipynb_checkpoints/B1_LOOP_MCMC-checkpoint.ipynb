{
 "cells": [
  {
   "cell_type": "code",
   "execution_count": 1,
   "id": "0f2db30a",
   "metadata": {},
   "outputs": [],
   "source": [
    "import torch\n",
    "import pyro\n",
    "import pyro.contrib.gp as gp\n",
    "import pyro.distributions as pdist\n",
    "from torch.optim import Adam\n",
    "from sklearn.model_selection import train_test_split\n",
    "import numpy as np\n",
    "import math as math\n",
    "import time"
   ]
  },
  {
   "cell_type": "code",
   "execution_count": 2,
   "id": "409ad3b3",
   "metadata": {
    "scrolled": true
   },
   "outputs": [
    {
     "data": {
      "application/vnd.jupyter.widget-view+json": {
       "model_id": "ed30a5ad6a624b2989040080183885f7",
       "version_major": 2,
       "version_minor": 0
      },
      "text/plain": [
       "Warmup [1]:   0%|          | 0/2500 [00:00, ?it/s]"
      ]
     },
     "metadata": {},
     "output_type": "display_data"
    },
    {
     "data": {
      "application/vnd.jupyter.widget-view+json": {
       "model_id": "6da582b710cf42a093652d3a4c7ec476",
       "version_major": 2,
       "version_minor": 0
      },
      "text/plain": [
       "Warmup [2]:   0%|          | 0/2500 [00:00, ?it/s]"
      ]
     },
     "metadata": {},
     "output_type": "display_data"
    },
    {
     "name": "stdout",
     "output_type": "stream",
     "text": [
      "0\n"
     ]
    },
    {
     "data": {
      "application/vnd.jupyter.widget-view+json": {
       "model_id": "1b2475d850764f1bb91c3a5451a625ee",
       "version_major": 2,
       "version_minor": 0
      },
      "text/plain": [
       "Warmup [1]:   0%|          | 0/2500 [00:00, ?it/s]"
      ]
     },
     "metadata": {},
     "output_type": "display_data"
    },
    {
     "data": {
      "application/vnd.jupyter.widget-view+json": {
       "model_id": "d560fcdddd9e43c2af9ae687b63ef076",
       "version_major": 2,
       "version_minor": 0
      },
      "text/plain": [
       "Warmup [2]:   0%|          | 0/2500 [00:00, ?it/s]"
      ]
     },
     "metadata": {},
     "output_type": "display_data"
    },
    {
     "name": "stdout",
     "output_type": "stream",
     "text": [
      "1\n"
     ]
    },
    {
     "data": {
      "application/vnd.jupyter.widget-view+json": {
       "model_id": "3496c7671a34403c9c2af8959d5b99b5",
       "version_major": 2,
       "version_minor": 0
      },
      "text/plain": [
       "Warmup [1]:   0%|          | 0/2500 [00:00, ?it/s]"
      ]
     },
     "metadata": {},
     "output_type": "display_data"
    },
    {
     "data": {
      "application/vnd.jupyter.widget-view+json": {
       "model_id": "6d627eb4aab6435da81c244c96df47fc",
       "version_major": 2,
       "version_minor": 0
      },
      "text/plain": [
       "Warmup [2]:   0%|          | 0/2500 [00:00, ?it/s]"
      ]
     },
     "metadata": {},
     "output_type": "display_data"
    },
    {
     "name": "stdout",
     "output_type": "stream",
     "text": [
      "2\n"
     ]
    },
    {
     "data": {
      "application/vnd.jupyter.widget-view+json": {
       "model_id": "75040a608246476ab1c86d4f576e575b",
       "version_major": 2,
       "version_minor": 0
      },
      "text/plain": [
       "Warmup [1]:   0%|          | 0/2500 [00:00, ?it/s]"
      ]
     },
     "metadata": {},
     "output_type": "display_data"
    },
    {
     "data": {
      "application/vnd.jupyter.widget-view+json": {
       "model_id": "0acdd23e0ab745c3a1d7cfcf5091b3d1",
       "version_major": 2,
       "version_minor": 0
      },
      "text/plain": [
       "Warmup [2]:   0%|          | 0/2500 [00:00, ?it/s]"
      ]
     },
     "metadata": {},
     "output_type": "display_data"
    },
    {
     "name": "stdout",
     "output_type": "stream",
     "text": [
      "3\n"
     ]
    },
    {
     "data": {
      "application/vnd.jupyter.widget-view+json": {
       "model_id": "31f59aba307a4c8d8d243f4155cb1452",
       "version_major": 2,
       "version_minor": 0
      },
      "text/plain": [
       "Warmup [1]:   0%|          | 0/2500 [00:00, ?it/s]"
      ]
     },
     "metadata": {},
     "output_type": "display_data"
    },
    {
     "data": {
      "application/vnd.jupyter.widget-view+json": {
       "model_id": "bba84def737845c19211ae183ffcf92b",
       "version_major": 2,
       "version_minor": 0
      },
      "text/plain": [
       "Warmup [2]:   0%|          | 0/2500 [00:00, ?it/s]"
      ]
     },
     "metadata": {},
     "output_type": "display_data"
    },
    {
     "name": "stdout",
     "output_type": "stream",
     "text": [
      "4\n"
     ]
    },
    {
     "data": {
      "application/vnd.jupyter.widget-view+json": {
       "model_id": "3956985c87d041e397f9f1f93e61ffe9",
       "version_major": 2,
       "version_minor": 0
      },
      "text/plain": [
       "Warmup [1]:   0%|          | 0/2500 [00:00, ?it/s]"
      ]
     },
     "metadata": {},
     "output_type": "display_data"
    },
    {
     "data": {
      "application/vnd.jupyter.widget-view+json": {
       "model_id": "54f8bdd4ddff4fe088169f7832e0b9cd",
       "version_major": 2,
       "version_minor": 0
      },
      "text/plain": [
       "Warmup [2]:   0%|          | 0/2500 [00:00, ?it/s]"
      ]
     },
     "metadata": {},
     "output_type": "display_data"
    },
    {
     "name": "stdout",
     "output_type": "stream",
     "text": [
      "5\n"
     ]
    },
    {
     "data": {
      "application/vnd.jupyter.widget-view+json": {
       "model_id": "3f3987129cd0462da1f9f6a95802254c",
       "version_major": 2,
       "version_minor": 0
      },
      "text/plain": [
       "Warmup [1]:   0%|          | 0/2500 [00:00, ?it/s]"
      ]
     },
     "metadata": {},
     "output_type": "display_data"
    },
    {
     "data": {
      "application/vnd.jupyter.widget-view+json": {
       "model_id": "c91c87f808294d14ad5edb26bdddc5bd",
       "version_major": 2,
       "version_minor": 0
      },
      "text/plain": [
       "Warmup [2]:   0%|          | 0/2500 [00:00, ?it/s]"
      ]
     },
     "metadata": {},
     "output_type": "display_data"
    },
    {
     "name": "stdout",
     "output_type": "stream",
     "text": [
      "6\n"
     ]
    },
    {
     "data": {
      "application/vnd.jupyter.widget-view+json": {
       "model_id": "c8f442c7899549f0bfc4eef3c7b12e30",
       "version_major": 2,
       "version_minor": 0
      },
      "text/plain": [
       "Warmup [1]:   0%|          | 0/2500 [00:00, ?it/s]"
      ]
     },
     "metadata": {},
     "output_type": "display_data"
    },
    {
     "data": {
      "application/vnd.jupyter.widget-view+json": {
       "model_id": "9bd3a188a81c48eaa166035d26ab0347",
       "version_major": 2,
       "version_minor": 0
      },
      "text/plain": [
       "Warmup [2]:   0%|          | 0/2500 [00:00, ?it/s]"
      ]
     },
     "metadata": {},
     "output_type": "display_data"
    },
    {
     "name": "stdout",
     "output_type": "stream",
     "text": [
      "7\n"
     ]
    },
    {
     "data": {
      "application/vnd.jupyter.widget-view+json": {
       "model_id": "b0a8314fbb48433c94e9916efae8a842",
       "version_major": 2,
       "version_minor": 0
      },
      "text/plain": [
       "Warmup [1]:   0%|          | 0/2500 [00:00, ?it/s]"
      ]
     },
     "metadata": {},
     "output_type": "display_data"
    },
    {
     "data": {
      "application/vnd.jupyter.widget-view+json": {
       "model_id": "7833754753c1401cab9947b04514b439",
       "version_major": 2,
       "version_minor": 0
      },
      "text/plain": [
       "Warmup [2]:   0%|          | 0/2500 [00:00, ?it/s]"
      ]
     },
     "metadata": {},
     "output_type": "display_data"
    },
    {
     "name": "stdout",
     "output_type": "stream",
     "text": [
      "8\n"
     ]
    },
    {
     "data": {
      "application/vnd.jupyter.widget-view+json": {
       "model_id": "a2ef85314cb64979827cb328310238ed",
       "version_major": 2,
       "version_minor": 0
      },
      "text/plain": [
       "Warmup [1]:   0%|          | 0/2500 [00:00, ?it/s]"
      ]
     },
     "metadata": {},
     "output_type": "display_data"
    },
    {
     "data": {
      "application/vnd.jupyter.widget-view+json": {
       "model_id": "1ca0d96c18124e1b884dad5dc92fcc40",
       "version_major": 2,
       "version_minor": 0
      },
      "text/plain": [
       "Warmup [2]:   0%|          | 0/2500 [00:00, ?it/s]"
      ]
     },
     "metadata": {},
     "output_type": "display_data"
    },
    {
     "name": "stdout",
     "output_type": "stream",
     "text": [
      "9\n"
     ]
    },
    {
     "data": {
      "application/vnd.jupyter.widget-view+json": {
       "model_id": "23460385f4264b829da6a1adfd673ec8",
       "version_major": 2,
       "version_minor": 0
      },
      "text/plain": [
       "Warmup [1]:   0%|          | 0/2500 [00:00, ?it/s]"
      ]
     },
     "metadata": {},
     "output_type": "display_data"
    },
    {
     "data": {
      "application/vnd.jupyter.widget-view+json": {
       "model_id": "60cda7cb3f0746a2b77e9082bb8d9849",
       "version_major": 2,
       "version_minor": 0
      },
      "text/plain": [
       "Warmup [2]:   0%|          | 0/2500 [00:00, ?it/s]"
      ]
     },
     "metadata": {},
     "output_type": "display_data"
    },
    {
     "name": "stdout",
     "output_type": "stream",
     "text": [
      "10\n"
     ]
    },
    {
     "data": {
      "application/vnd.jupyter.widget-view+json": {
       "model_id": "35a91e6d3aed4ded95a04b87d8593c07",
       "version_major": 2,
       "version_minor": 0
      },
      "text/plain": [
       "Warmup [1]:   0%|          | 0/2500 [00:00, ?it/s]"
      ]
     },
     "metadata": {},
     "output_type": "display_data"
    },
    {
     "data": {
      "application/vnd.jupyter.widget-view+json": {
       "model_id": "e2490864f65a4a079b6b8509c33a84a0",
       "version_major": 2,
       "version_minor": 0
      },
      "text/plain": [
       "Warmup [2]:   0%|          | 0/2500 [00:00, ?it/s]"
      ]
     },
     "metadata": {},
     "output_type": "display_data"
    },
    {
     "name": "stdout",
     "output_type": "stream",
     "text": [
      "11\n"
     ]
    },
    {
     "data": {
      "application/vnd.jupyter.widget-view+json": {
       "model_id": "3a168bf2c0dc4ecfb80957d8a54a925a",
       "version_major": 2,
       "version_minor": 0
      },
      "text/plain": [
       "Warmup [1]:   0%|          | 0/2500 [00:00, ?it/s]"
      ]
     },
     "metadata": {},
     "output_type": "display_data"
    },
    {
     "data": {
      "application/vnd.jupyter.widget-view+json": {
       "model_id": "1dae95990c1044e0af23d87e33384409",
       "version_major": 2,
       "version_minor": 0
      },
      "text/plain": [
       "Warmup [2]:   0%|          | 0/2500 [00:00, ?it/s]"
      ]
     },
     "metadata": {},
     "output_type": "display_data"
    },
    {
     "name": "stdout",
     "output_type": "stream",
     "text": [
      "12\n"
     ]
    },
    {
     "data": {
      "application/vnd.jupyter.widget-view+json": {
       "model_id": "1323bae145ec44889b0d9762318f5cf1",
       "version_major": 2,
       "version_minor": 0
      },
      "text/plain": [
       "Warmup [1]:   0%|          | 0/2500 [00:00, ?it/s]"
      ]
     },
     "metadata": {},
     "output_type": "display_data"
    },
    {
     "data": {
      "application/vnd.jupyter.widget-view+json": {
       "model_id": "b3046f2f63984d78b6679872980b2fa1",
       "version_major": 2,
       "version_minor": 0
      },
      "text/plain": [
       "Warmup [2]:   0%|          | 0/2500 [00:00, ?it/s]"
      ]
     },
     "metadata": {},
     "output_type": "display_data"
    },
    {
     "name": "stdout",
     "output_type": "stream",
     "text": [
      "13\n"
     ]
    },
    {
     "data": {
      "application/vnd.jupyter.widget-view+json": {
       "model_id": "58e933ab3a194a74a3e2d3e235db268d",
       "version_major": 2,
       "version_minor": 0
      },
      "text/plain": [
       "Warmup [1]:   0%|          | 0/2500 [00:00, ?it/s]"
      ]
     },
     "metadata": {},
     "output_type": "display_data"
    },
    {
     "data": {
      "application/vnd.jupyter.widget-view+json": {
       "model_id": "32e13f651363408799e58159f938afe0",
       "version_major": 2,
       "version_minor": 0
      },
      "text/plain": [
       "Warmup [2]:   0%|          | 0/2500 [00:00, ?it/s]"
      ]
     },
     "metadata": {},
     "output_type": "display_data"
    },
    {
     "name": "stdout",
     "output_type": "stream",
     "text": [
      "14\n"
     ]
    },
    {
     "data": {
      "application/vnd.jupyter.widget-view+json": {
       "model_id": "f5ff8923f16c43b6bb378802ec4f51d5",
       "version_major": 2,
       "version_minor": 0
      },
      "text/plain": [
       "Warmup [1]:   0%|          | 0/2500 [00:00, ?it/s]"
      ]
     },
     "metadata": {},
     "output_type": "display_data"
    },
    {
     "data": {
      "application/vnd.jupyter.widget-view+json": {
       "model_id": "060251e60d95404e9227fce2f2c2c3aa",
       "version_major": 2,
       "version_minor": 0
      },
      "text/plain": [
       "Warmup [2]:   0%|          | 0/2500 [00:00, ?it/s]"
      ]
     },
     "metadata": {},
     "output_type": "display_data"
    },
    {
     "name": "stdout",
     "output_type": "stream",
     "text": [
      "15\n"
     ]
    },
    {
     "data": {
      "application/vnd.jupyter.widget-view+json": {
       "model_id": "56bcec848af245f49dfb7fb04b65abc6",
       "version_major": 2,
       "version_minor": 0
      },
      "text/plain": [
       "Warmup [1]:   0%|          | 0/2500 [00:00, ?it/s]"
      ]
     },
     "metadata": {},
     "output_type": "display_data"
    },
    {
     "data": {
      "application/vnd.jupyter.widget-view+json": {
       "model_id": "1f7240f080d3412eaf06547c99bdc46c",
       "version_major": 2,
       "version_minor": 0
      },
      "text/plain": [
       "Warmup [2]:   0%|          | 0/2500 [00:00, ?it/s]"
      ]
     },
     "metadata": {},
     "output_type": "display_data"
    },
    {
     "name": "stdout",
     "output_type": "stream",
     "text": [
      "16\n"
     ]
    },
    {
     "data": {
      "application/vnd.jupyter.widget-view+json": {
       "model_id": "6c49a3c7f3d34088ab118b93658b506c",
       "version_major": 2,
       "version_minor": 0
      },
      "text/plain": [
       "Warmup [1]:   0%|          | 0/2500 [00:00, ?it/s]"
      ]
     },
     "metadata": {},
     "output_type": "display_data"
    },
    {
     "data": {
      "application/vnd.jupyter.widget-view+json": {
       "model_id": "bf204c324dea47b78ec405e95a30002b",
       "version_major": 2,
       "version_minor": 0
      },
      "text/plain": [
       "Warmup [2]:   0%|          | 0/2500 [00:00, ?it/s]"
      ]
     },
     "metadata": {},
     "output_type": "display_data"
    },
    {
     "name": "stdout",
     "output_type": "stream",
     "text": [
      "17\n"
     ]
    },
    {
     "data": {
      "application/vnd.jupyter.widget-view+json": {
       "model_id": "8bf3ad14e4454901bf0a70d9185bc53b",
       "version_major": 2,
       "version_minor": 0
      },
      "text/plain": [
       "Warmup [1]:   0%|          | 0/2500 [00:00, ?it/s]"
      ]
     },
     "metadata": {},
     "output_type": "display_data"
    },
    {
     "data": {
      "application/vnd.jupyter.widget-view+json": {
       "model_id": "5c8b44f0e82d4995a787eb7dbaff6b54",
       "version_major": 2,
       "version_minor": 0
      },
      "text/plain": [
       "Warmup [2]:   0%|          | 0/2500 [00:00, ?it/s]"
      ]
     },
     "metadata": {},
     "output_type": "display_data"
    },
    {
     "name": "stdout",
     "output_type": "stream",
     "text": [
      "18\n"
     ]
    },
    {
     "data": {
      "application/vnd.jupyter.widget-view+json": {
       "model_id": "071bec2584014aef8c6084aae8fc5b94",
       "version_major": 2,
       "version_minor": 0
      },
      "text/plain": [
       "Warmup [1]:   0%|          | 0/2500 [00:00, ?it/s]"
      ]
     },
     "metadata": {},
     "output_type": "display_data"
    },
    {
     "data": {
      "application/vnd.jupyter.widget-view+json": {
       "model_id": "e1259cef49f94b83adaab74a673c9b50",
       "version_major": 2,
       "version_minor": 0
      },
      "text/plain": [
       "Warmup [2]:   0%|          | 0/2500 [00:00, ?it/s]"
      ]
     },
     "metadata": {},
     "output_type": "display_data"
    },
    {
     "name": "stdout",
     "output_type": "stream",
     "text": [
      "19\n"
     ]
    }
   ],
   "source": [
    "def func(X):\n",
    "    return -torch.sin(6*math.pi*X)**2+6*X**2-5*X**4+3/2\n",
    "\n",
    "\n",
    "\n",
    "# Data\n",
    "X = torch.tensor(np.linspace(0, 1, 30))\n",
    "y = func(X)\n",
    "\n",
    "\n",
    "kernel = gp.kernels.Periodic(input_dim=1)\n",
    "\n",
    "# Set the priors for the kernel parameters\n",
    "kernel.lengthscale = pyro.nn.PyroSample(pdist.LogNormal(0.15, 1))  # (0.2, 1)\n",
    "kernel.variance = pyro.nn.PyroSample(pdist.LogNormal(0.05, 0.3))   # (0.05, 0.3)\n",
    "\n",
    "gpr = gp.models.GPRegression(X, y, kernel, noise=torch.tensor(0.01)) # the noise N(0,0.01)\n",
    "\n",
    "\n",
    "total_log_pred_likelihood_list = []\n",
    "\n",
    "for k in range(20):\n",
    "    # Use clone for splitting data and ensure requires_grad is set\n",
    "    current_time = int(time.time())\n",
    "    X_train, X_test, y_train, y_test = train_test_split(X.clone(), y.clone(), test_size=1/3, random_state=current_time)\n",
    "\n",
    "    kernel = gp.kernels.Periodic(input_dim=1)\n",
    "\n",
    "    # Set the priors for the kernel parameters\n",
    "    kernel.lengthscale = pyro.nn.PyroSample(pdist.LogNormal(0.2, 1))  # (0.2, 1)\n",
    "    kernel.variance = pyro.nn.PyroSample(pdist.LogNormal(0.05, 0.3))   # (0.05, 0.3)\n",
    "\n",
    "\n",
    "    # Usage\n",
    "    gpr = gp.models.GPRegression(X_train, y_train, kernel, noise=torch.tensor(0.01))\n",
    "\n",
    "    # NUTS to sample from posterior\n",
    "    nuts_kernel = pyro.infer.NUTS(gpr.model)\n",
    "    mcmc = pyro.infer.MCMC(nuts_kernel, num_samples=2000, num_chains=2, warmup_steps=500) #tuning for warmup_steps\n",
    "    mcmc.run()\n",
    "\n",
    "    samples = mcmc.get_samples()\n",
    "\n",
    "    # Extract samples for each parameter\n",
    "    lengthscale_samples = samples['kernel.lengthscale']\n",
    "    variance_samples = samples['kernel.variance']\n",
    "    # If there are other parameters, extract them similarly\n",
    "\n",
    "    # Assuming you want 500 random samples\n",
    "    num_samples = 500\n",
    "    selected_indices = np.random.choice(lengthscale_samples.shape[0], num_samples, replace=True)\n",
    "\n",
    "    # Initialize a list to store likelihoods for each sample\n",
    "    likelihoods = []\n",
    "\n",
    "    for idx in selected_indices:\n",
    "        # Set the sampled parameters to your model\n",
    "        gpr.kernel.lengthscale = lengthscale_samples[idx]\n",
    "        gpr.kernel.variance = variance_samples[idx]\n",
    "        # Set other parameters as needed\n",
    "\n",
    "        # Predict on the test set\n",
    "        with torch.no_grad():\n",
    "            mean, variance = gpr(X_test, full_cov=False)\n",
    "\n",
    "        # Compute likelihood (assuming Gaussian likelihood)\n",
    "        test_likelihood = torch.exp(-0.5 * ((y_test - mean) ** 2 / variance)) / torch.sqrt(2 * torch.pi * variance)\n",
    "        likelihoods.append(test_likelihood.mean())\n",
    "\n",
    "\n",
    "    # Compute the average likelihood across all samples\n",
    "    average_likelihood = torch.mean(torch.stack(likelihoods))\n",
    "    total_log_pred_likelihood_list.append(average_likelihood)\n",
    "    print(k)"
   ]
  },
  {
   "cell_type": "code",
   "execution_count": 4,
   "id": "24674e10",
   "metadata": {},
   "outputs": [
    {
     "name": "stdout",
     "output_type": "stream",
     "text": [
      "1.4689308440613886 0.4652950488695432\n"
     ]
    }
   ],
   "source": [
    "print(np.mean(total_log_pred_likelihood_list),np.std(total_log_pred_likelihood_list))"
   ]
  },
  {
   "cell_type": "code",
   "execution_count": 7,
   "id": "7ee31e90",
   "metadata": {},
   "outputs": [
    {
     "data": {
      "image/png": "[encoded data removed]",
      "text/plain": [
       "<Figure size 640x480 with 1 Axes>"
      ]
     },
     "metadata": {},
     "output_type": "display_data"
    }
   ],
   "source": [
    "import matplotlib.pyplot as plt\n",
    "# Creating a histogram\n",
    "plt.hist(total_log_pred_likelihood_list, bins=20, alpha=0.3, color='deepskyblue', edgecolor='white')\n",
    "\n",
    "# Adding labels and title for clarity\n",
    "plt.xlabel('Value')\n",
    "plt.ylabel('Frequency')\n",
    "plt.title('Histogram of the total_log_likelihoods, MCMC')\n",
    "\n",
    "# Display the histogram\n",
    "plt.show()"
   ]
  }
 ],
 "metadata": {
  "kernelspec": {
   "display_name": "Python 3 (ipykernel)",
   "language": "python",
   "name": "python3"
  },
  "language_info": {
   "codemirror_mode": {
    "name": "ipython",
    "version": 3
   },
   "file_extension": ".py",
   "mimetype": "text/x-python",
   "name": "python",
   "nbconvert_exporter": "python",
   "pygments_lexer": "ipython3",
   "version": "3.9.16"
  }
 },
 "nbformat": 4,
 "nbformat_minor": 5
}
