<<<<<<< HEAD
{
 "cells": [
  {
   "cell_type": "code",
   "execution_count": 1,
   "id": "f7442092",
   "metadata": {},
   "outputs": [],
   "source": [
    "from sklearn.model_selection import KFold\n",
    "from sklearn.model_selection import train_test_split\n",
    "import torch\n",
    "import pyro\n",
    "import pyro.distributions as pdist\n",
    "import pyro.contrib.gp as gp\n",
    "from pyro.infer import SVI, Trace_ELBO\n",
    "from pyro.optim import Adam\n",
    "import math\n",
    "import numpy as np\n"
   ]
  },
  {
   "cell_type": "code",
   "execution_count": 3,
   "id": "ee255e4e",
   "metadata": {},
   "outputs": [
    {
     "ename": "IndexError",
     "evalue": "tuple index out of range",
     "output_type": "error",
     "traceback": [
      "\u001b[1;31m---------------------------------------------------------------------------\u001b[0m",
      "\u001b[1;31mIndexError\u001b[0m                                Traceback (most recent call last)",
      "\u001b[1;32m~\\AppData\\Local\\Temp\\ipykernel_12888\\3087288405.py\u001b[0m in \u001b[0;36m<cell line: 36>\u001b[1;34m()\u001b[0m\n\u001b[0;32m     34\u001b[0m \u001b[1;33m\u001b[0m\u001b[0m\n\u001b[0;32m     35\u001b[0m \u001b[1;31m# Initialize your parameters\u001b[0m\u001b[1;33m\u001b[0m\u001b[1;33m\u001b[0m\u001b[0m\n\u001b[1;32m---> 36\u001b[1;33m \u001b[0mtheta\u001b[0m \u001b[1;33m=\u001b[0m \u001b[0mtorch\u001b[0m\u001b[1;33m.\u001b[0m\u001b[0mzeros\u001b[0m\u001b[1;33m(\u001b[0m\u001b[0mX\u001b[0m\u001b[1;33m.\u001b[0m\u001b[0mshape\u001b[0m\u001b[1;33m[\u001b[0m\u001b[1;36m1\u001b[0m\u001b[1;33m]\u001b[0m\u001b[1;33m,\u001b[0m \u001b[0mrequires_grad\u001b[0m\u001b[1;33m=\u001b[0m\u001b[1;32mTrue\u001b[0m\u001b[1;33m)\u001b[0m\u001b[1;33m\u001b[0m\u001b[1;33m\u001b[0m\u001b[0m\n\u001b[0m\u001b[0;32m     37\u001b[0m \u001b[1;33m\u001b[0m\u001b[0m\n\u001b[0;32m     38\u001b[0m \u001b[1;31m# Use a gradient-based optimizer\u001b[0m\u001b[1;33m\u001b[0m\u001b[1;33m\u001b[0m\u001b[0m\n",
      "\u001b[1;31mIndexError\u001b[0m: tuple index out of range"
     ]
    }
   ],
   "source": [
    "import torch\n",
    "import torch.optim as optim\n",
    "\n",
    "def func(X):\n",
    "    return -torch.sin(6*math.pi*X)**2+6*X**2-5*X**4+3/2\n",
    "\n",
    "# Data\n",
    "X = torch.tensor(np.linspace(0, 1, 30))\n",
    "y = func(X)\n",
    "\n",
    "# Define your model\n",
    "def model(X, theta):\n",
    "    # This is a simple linear regression model\n",
    "    return X @ theta\n",
    "\n",
    "# Define your prior\n",
    "def prior(theta):\n",
    "    # Assuming a Gaussian prior\n",
    "    return torch.exp(-0.5 * torch.sum(theta**2))\n",
    "\n",
    "# Define your likelihood\n",
    "def likelihood(y, y_hat):\n",
    "    # Assuming normally distributed residuals\n",
    "    return torch.exp(-0.5 * torch.sum((y - y_hat)**2))\n",
    "\n",
    "# Define your posterior\n",
    "def posterior(theta, X, y):\n",
    "    y_hat = model(X, theta)\n",
    "    return likelihood(y, y_hat) * prior(theta)\n",
    "\n",
    "# Define a function to minimize (negative log posterior)\n",
    "def neg_log_posterior(theta, X, y):\n",
    "    return -torch.log(posterior(theta, X, y))\n",
    "\n",
    "# Initialize your parameters\n",
    "theta = torch.zeros(X.shape[1], requires_grad=True)\n",
    "\n",
    "# Use a gradient-based optimizer\n",
    "optimizer = optim.Adam([theta], lr=0.1)\n",
    "\n",
    "# Training loop\n",
    "for i in range(1000):\n",
    "    optimizer.zero_grad()\n",
    "    loss = neg_log_posterior(theta, X, y)\n",
    "    loss.backward()\n",
    "    optimizer.step()\n",
    "\n",
    "print(f\"MAP estimate: {theta.detach().numpy()}\")\n"
   ]
  },
  {
   "cell_type": "code",
   "execution_count": null,
   "id": "1b566c9c",
   "metadata": {},
   "outputs": [],
   "source": [
    "def func(X):\n",
    "    return -torch.sin(6*math.pi*X)**2+6*X**2-5*X**4+3/2\n",
    "\n",
    "# Data\n",
    "X = torch.tensor(np.linspace(0, 1, 30))\n",
    "y = func(X)\n",
    "\n",
    "# Define Model\n",
    "kernel = gp.kernels.Periodic(input_dim=1)  # could add a linear kernel\n",
    "kernel.lengthscale = pyro.nn.PyroSample(pdist.LogNormal(0,1))\n",
    "kernel.variance = pyro.nn.PyroSample(pdist.LogNormal(0,1))\n",
    "gpr = gp.models.GPRegression(X, y, kernel, noise=torch.tensor(1e-4))  # the noise level\n",
    "\n",
    "\n",
    "X_train, X_test, y_train, y_test = train_test_split(X, y, test_size=1/3, random_state=42)\n",
    "gpr.set_data(X_train, y_train)"
   ]
  },
  {
   "cell_type": "code",
   "execution_count": null,
   "id": "d7b46ac2",
   "metadata": {},
   "outputs": [],
   "source": []
  },
  {
   "cell_type": "code",
   "execution_count": null,
   "id": "9d79c349",
   "metadata": {},
   "outputs": [],
   "source": []
  },
  {
   "cell_type": "code",
   "execution_count": null,
   "id": "40c7b885",
   "metadata": {},
   "outputs": [],
   "source": []
  }
 ],
 "metadata": {
  "kernelspec": {
   "display_name": "Python 3 (ipykernel)",
   "language": "python",
   "name": "python3"
  },
  "language_info": {
   "codemirror_mode": {
    "name": "ipython",
    "version": 3
   },
   "file_extension": ".py",
   "mimetype": "text/x-python",
   "name": "python",
   "nbconvert_exporter": "python",
   "pygments_lexer": "ipython3",
   "version": "3.9.16"
  }
 },
 "nbformat": 4,
 "nbformat_minor": 5
}
=======
{
 "cells": [
  {
   "cell_type": "code",
   "execution_count": null,
   "id": "459e9615",
   "metadata": {},
   "outputs": [],
   "source": [
    "import pyro\n",
    "import numpy as np                                                                                                                                                   \n",
    "import torch\n",
    "import sklearn\n",
    "import matplotlib.pyplot as plt\n",
    "from sklearn.datasets import load_iris\n",
    "from sklearn import model_selection\n",
    "import pyro.distributions as pdist\n",
    "import pyro.contrib.gp as gp\n",
    "import torch.distributions as tdist\n",
    "import torch.nn as tnn\n",
    "import pyro.nn as pnn\n",
    "import arviz\n",
    "import math"
   ]
  },
  {
   "cell_type": "code",
   "execution_count": null,
   "id": "92888eed",
   "metadata": {},
   "outputs": [],
   "source": [
    "from pyro.optim import Adam"
   ]
  },
  {
   "cell_type": "code",
   "execution_count": null,
   "id": "e4f45d3e",
   "metadata": {},
   "outputs": [],
   "source": [
    "from sklearn.model_selection import KFold\n",
    "\n",
    "def func(X):\n",
    "    return -torch.sin(6*math.pi*X)**2+6*X**2-5*X**4+3/2\n",
    "\n",
    "# Data\n",
    "X = torch.tensor(np.linspace(0, 1, 30))\n",
    "y = func(X)\n",
    "\n",
    "# Define Model\n",
    "kernel = gp.kernels.Periodic(input_dim=1)  # could add a linear kernel\n",
    "kernel.lengthscale = pyro.nn.PyroSample(pdist.LogNormal(-1,1))\n",
    "kernel.variance = pyro.nn.PyroSample(pdist.LogNormal(0,2))\n",
    "gpr = gp.models.GPRegression(X, y, kernel, noise=torch.tensor(1e-4))  # the noise??\n",
    "\n",
    "# Split data into three folds\n",
    "kf = KFold(n_splits=3, shuffle=True) \n",
    "for train_index, test_index in kf.split(X):\n",
    "    X_train, X_test = X[train_index], X[test_index]\n",
    "    y_train, y_test = y[train_index], y[test_index]\n",
    "\n",
    "# Use Adam optimizer\n",
    "adam_params = {\"lr\": 0.01, \"betas\": (0.9, 0.999)}\n",
    "optimizer = Adam(adam_params)\n",
    "\n",
    "# Training loop without ELBO\n",
    "num_steps = 1000\n",
    "for step in range(num_steps):\n",
    "    # Forward pass\n",
    "    predictive = gpr(X_train)\n",
    "\n",
    "    # Unpack the predictive tuple\n",
    "    y_pred, sigma = predictive\n",
    "    # y_pred, sigma = predictive.mean, predictive.variance.sqrt()\n",
    "\n",
    "    # Negative log-likelihood loss\n",
    "    nll = 0.5 * torch.log(2 * torch.tensor(np.pi)) + 0.5 * torch.log(sigma**2) + 0.5 * ((y_train - y_pred) / sigma)**2\n",
    "    loss = nll.mean()\n",
    "\n",
    "    # Backward pass\n",
    "    gpr.cleargrads()   #optimizer.zero_grad()\n",
    "    loss.backward()\n",
    "    optimizer.step()\n",
    "\n",
    "    if step % 100 == 0:\n",
    "        print(\"Step {}: Loss = {}\".format(step, loss.item()))\n",
    "\n",
    "# Make predictions on the test set\n",
    "X_test = torch.tensor(X_test, dtype=torch.float32)\n",
    "with torch.no_grad():\n",
    "    predictive = gpr(X_test)\n",
    "\n",
    "# Unpack the predictive tuple\n",
    "y_pred, sigma = predictive.mean, predictive.variance.sqrt()\n",
    "\n",
    "# Calculate negative log-likelihood on the test set\n",
    "nll = 0.5 * torch.log(2 * torch.tensor(np.pi)) + 0.5 * torch.log(sigma**2) + 0.5 * ((torch.tensor(y_test, dtype=torch.float32) - y_pred) / sigma)**2\n",
    "test_loss = nll.mean().item()\n",
    "print(\"Negative Log-Likelihood on Test Set:\", test_loss)"
   ]
  },
  {
   "cell_type": "code",
   "execution_count": null,
   "id": "a492b3d8",
   "metadata": {},
   "outputs": [],
   "source": []
  },
  {
   "cell_type": "code",
   "execution_count": null,
   "id": "1c9868b4",
   "metadata": {},
   "outputs": [],
   "source": []
  },
  {
   "cell_type": "code",
   "execution_count": null,
   "id": "41ace8eb",
   "metadata": {},
   "outputs": [],
   "source": []
  },
  {
   "cell_type": "code",
   "execution_count": 1,
   "id": "18f3e6ff",
   "metadata": {},
   "outputs": [
    {
     "name": "stdout",
     "output_type": "stream",
     "text": [
      "Test RMSE: 0.460407396587186\n",
      "Test RMSE: 0.2305847873619772\n",
      "Test RMSE: 0.015539745609796197\n"
     ]
    }
   ],
   "source": [
    "from sklearn.model_selection import KFold\n",
    "import torch\n",
    "import pyro\n",
    "import pyro.distributions as pdist\n",
    "import pyro.contrib.gp as gp\n",
    "import math\n",
    "import numpy as np\n",
    "\n",
    "def func(X):\n",
    "    return -torch.sin(6*math.pi*X)**2+6*X**2-5*X**4+3/2\n",
    "\n",
    "# Data\n",
    "X = torch.tensor(np.linspace(0, 1, 30))\n",
    "y = func(X)\n",
    "\n",
    "# Define Model\n",
    "kernel = gp.kernels.Periodic(input_dim=1)  # could add a linear kernel\n",
    "kernel.lengthscale = pyro.nn.PyroSample(pdist.LogNormal(-1,1))\n",
    "kernel.variance = pyro.nn.PyroSample(pdist.LogNormal(0,2))\n",
    "gpr = gp.models.GPRegression(X, y, kernel, noise=torch.tensor(1e-4))  # the noise??\n",
    "\n",
    "# Split data into three folds\n",
    "kf = KFold(n_splits=3, shuffle=True) \n",
    "for train_index, test_index in kf.split(X):\n",
    "    X_train, X_test = X[train_index], X[test_index]\n",
    "    y_train, y_test = y[train_index], y[test_index]\n",
    "    \n",
    "    # Update the model's data\n",
    "    gpr.set_data(X_train, y_train)\n",
    "    \n",
    "    # Use the Adam optimizer\n",
    "    optimizer = torch.optim.Adam(gpr.parameters(), lr=0.005)\n",
    "    \n",
    "    # Training\n",
    "    loss_fn = pyro.infer.Trace_ELBO().differentiable_loss\n",
    "    for i in range(1000):\n",
    "        optimizer.zero_grad()\n",
    "        loss = loss_fn(gpr.model, gpr.guide)\n",
    "        loss.backward()\n",
    "        optimizer.step()\n",
    "    \n",
    "    # Testing\n",
    "    with torch.no_grad():\n",
    "        mean, variance = gpr(X_test, full_cov=False)\n",
    "        rmse = torch.sqrt(torch.mean((y_test - mean)**2)).item()\n",
    "        print(f\"Test RMSE: {rmse}\")\n"
   ]
  },
  {
   "cell_type": "code",
   "execution_count": 3,
   "id": "a9432e2c",
   "metadata": {},
   "outputs": [
    {
     "data": {
      "image/png": "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\n",
      "text/plain": [
       "<Figure size 1000x500 with 1 Axes>"
      ]
     },
     "metadata": {},
     "output_type": "display_data"
    }
   ],
   "source": [
    "import matplotlib.pyplot as plt\n",
    "\n",
    "# Generate new X values for plotting\n",
    "Xnew = torch.linspace(0, 1, 100)\n",
    "\n",
    "# Get the predictive mean and variance\n",
    "with torch.no_grad():\n",
    "    f_loc, f_cov = gpr(Xnew, full_cov=False, noiseless=False)\n",
    "\n",
    "# Convert to numpy for plotting\n",
    "Xnew = Xnew.numpy()\n",
    "f_loc = f_loc.numpy()\n",
    "f_cov = f_cov.numpy()\n",
    "\n",
    "# Plot results\n",
    "plt.figure(figsize=(10, 5))\n",
    "plt.plot(Xnew, func(torch.tensor(Xnew)), label='g(x)', color='red')\n",
    "plt.xlim(0, 1)\n",
    "plt.ylim(0, 4)\n",
    "plt.scatter(X_train.numpy(), y_train.numpy(), label='D', color='black', s=7)\n",
    "plt.plot(Xnew, f_loc, label='m(x*)', color='blue')\n",
    "plt.fill_between(Xnew, f_loc+2*np.sqrt(f_cov), f_loc-2*np.sqrt(f_cov), color=\"deepskyblue\", alpha=0.5, label='var')\n",
    "plt.xlabel(\"x*\")\n",
    "plt.ylabel(\"g(x*)\")\n",
    "plt.legend()\n",
    "plt.show()\n"
   ]
  },
  {
   "cell_type": "code",
   "execution_count": null,
   "id": "e4906941",
   "metadata": {},
   "outputs": [],
   "source": []
  },
  {
   "cell_type": "code",
   "execution_count": null,
   "id": "9742f51d",
   "metadata": {},
   "outputs": [],
   "source": []
  }
 ],
 "metadata": {
  "kernelspec": {
   "display_name": "Python 3 (ipykernel)",
   "language": "python",
   "name": "python3"
  },
  "language_info": {
   "codemirror_mode": {
    "name": "ipython",
    "version": 3
   },
   "file_extension": ".py",
   "mimetype": "text/x-python",
   "name": "python",
   "nbconvert_exporter": "python",
   "pygments_lexer": "ipython3",
   "version": "3.9.16"
  }
 },
 "nbformat": 4,
 "nbformat_minor": 5
}
>>>>>>> b88b39c (m)
